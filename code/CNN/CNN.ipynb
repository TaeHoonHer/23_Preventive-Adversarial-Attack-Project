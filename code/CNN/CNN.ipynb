{
 "cells": [
  {
   "cell_type": "code",
   "execution_count": 19,
   "id": "6e2ec554",
   "metadata": {},
   "outputs": [],
   "source": [
    "import tensorflow as tf\n",
    "from tensorflow.keras.datasets import mnist\n",
    "from tensorflow.keras.models import Sequential\n",
    "from tensorflow.keras.layers import Dense, Dropout, Flatten\n",
    "from tensorflow.keras.layers import Conv2D, MaxPooling2D\n",
    "from tensorflow.keras import backend as K\n",
    "import numpy as np\n",
    "import matplotlib.pyplot as plt"
   ]
  },
  {
   "cell_type": "code",
   "execution_count": 20,
   "id": "fe0955bf",
   "metadata": {},
   "outputs": [],
   "source": [
    "(x_train, y_train), (x_test, y_test) = mnist.load_data()"
   ]
  },
  {
   "cell_type": "code",
   "execution_count": 21,
   "id": "eaaaf3c4",
   "metadata": {},
   "outputs": [],
   "source": [
    "# 입력 이미지 차원\n",
    "img_rows, img_cols = 28, 28\n",
    "\n",
    "if K.image_data_format() == 'channels_first':\n",
    "    x_train = x_train.reshape(x_train.shape[0], 1, img_rows, img_cols)\n",
    "    x_test = x_test.reshape(x_test.shape[0], 1, img_rows, img_cols)\n",
    "    input_shape = (1, img_rows, img_cols)\n",
    "else:\n",
    "    x_train = x_train.reshape(x_train.shape[0], img_rows, img_cols, 1)\n",
    "    x_test = x_test.reshape(x_test.shape[0], img_rows, img_cols, 1)\n",
    "    input_shape = (img_rows, img_cols, 1)\n",
    "\n",
    "# 정규화\n",
    "x_train = x_train.astype('float32') / 255\n",
    "x_test = x_test.astype('float32') / 255\n",
    "\n",
    "# 클래스 벡터를 이진 클래스 행렬로 변환\n",
    "y_train = tf.keras.utils.to_categorical(y_train, 10)\n",
    "y_test = tf.keras.utils.to_categorical(y_test, 10)\n",
    "\n",
    "# CNN 모델 생성\n",
    "model = Sequential()\n",
    "model.add(Conv2D(32, kernel_size=(3, 3),\n",
    "                 activation='relu',\n",
    "                 input_shape=input_shape))\n",
    "model.add(Conv2D(64, (3, 3), activation='relu'))\n",
    "model.add(MaxPooling2D(pool_size=(2, 2)))\n",
    "model.add(Dropout(0.25))\n",
    "model.add(Flatten())\n",
    "model.add(Dense(128, activation='relu'))\n",
    "model.add(Dropout(0.5))\n",
    "model.add(Dense(10, activation='softmax'))\n",
    "\n",
    "model.compile(loss=tf.keras.losses.categorical_crossentropy,\n",
    "              optimizer=tf.keras.optimizers.Adadelta(),\n",
    "              metrics=['accuracy'])"
   ]
  },
  {
   "cell_type": "code",
   "execution_count": 22,
   "id": "e059a774",
   "metadata": {},
   "outputs": [
    {
     "name": "stdout",
     "output_type": "stream",
     "text": [
      "Epoch 1/12\n",
      "469/469 [==============================] - 34s 72ms/step - loss: 2.2846 - accuracy: 0.1434 - val_loss: 2.2562 - val_accuracy: 0.2347\n",
      "Epoch 2/12\n",
      "469/469 [==============================] - 34s 73ms/step - loss: 2.2409 - accuracy: 0.2388 - val_loss: 2.2041 - val_accuracy: 0.3689\n",
      "Epoch 3/12\n",
      "469/469 [==============================] - 35s 75ms/step - loss: 2.1863 - accuracy: 0.3247 - val_loss: 2.1359 - val_accuracy: 0.4965\n",
      "Epoch 4/12\n",
      "469/469 [==============================] - 35s 74ms/step - loss: 2.1136 - accuracy: 0.4090 - val_loss: 2.0437 - val_accuracy: 0.6217\n",
      "Epoch 5/12\n",
      "469/469 [==============================] - 35s 74ms/step - loss: 2.0152 - accuracy: 0.4860 - val_loss: 1.9170 - val_accuracy: 0.7071\n",
      "Epoch 6/12\n",
      "469/469 [==============================] - 35s 75ms/step - loss: 1.8842 - accuracy: 0.5447 - val_loss: 1.7477 - val_accuracy: 0.7526\n",
      "Epoch 7/12\n",
      "469/469 [==============================] - 35s 74ms/step - loss: 1.7205 - accuracy: 0.5913 - val_loss: 1.5424 - val_accuracy: 0.7776\n",
      "Epoch 8/12\n",
      "469/469 [==============================] - 35s 74ms/step - loss: 1.5383 - accuracy: 0.6247 - val_loss: 1.3254 - val_accuracy: 0.7947\n",
      "Epoch 9/12\n",
      "469/469 [==============================] - 34s 73ms/step - loss: 1.3676 - accuracy: 0.6500 - val_loss: 1.1303 - val_accuracy: 0.8066\n",
      "Epoch 10/12\n",
      "469/469 [==============================] - 35s 74ms/step - loss: 1.2175 - accuracy: 0.6751 - val_loss: 0.9719 - val_accuracy: 0.8217\n",
      "Epoch 11/12\n",
      "469/469 [==============================] - 35s 75ms/step - loss: 1.1012 - accuracy: 0.6920 - val_loss: 0.8517 - val_accuracy: 0.8338\n",
      "Epoch 12/12\n",
      "469/469 [==============================] - 35s 75ms/step - loss: 1.0163 - accuracy: 0.7061 - val_loss: 0.7631 - val_accuracy: 0.8417\n"
     ]
    },
    {
     "data": {
      "text/plain": [
       "<keras.callbacks.History at 0x295789169e0>"
      ]
     },
     "execution_count": 22,
     "metadata": {},
     "output_type": "execute_result"
    }
   ],
   "source": [
    "model.fit(x_train, y_train,\n",
    "          batch_size=128,\n",
    "          epochs=12,\n",
    "          verbose=1,\n",
    "          validation_data=(x_test, y_test))"
   ]
  },
  {
   "cell_type": "code",
   "execution_count": 23,
   "id": "50ff2026",
   "metadata": {},
   "outputs": [],
   "source": [
    "# FGSM 공격 함수\n",
    "def fgsm(model, x, eps):\n",
    "    x_adv = tf.Variable(x, dtype=tf.float32)\n",
    "    with tf.GradientTape() as tape:\n",
    "        tape.watch(x_adv)\n",
    "        y_pred = model(x_adv)\n",
    "        loss = tf.keras.losses.categorical_crossentropy(y_test, y_pred)\n",
    "    grad = tape.gradient(loss, x_adv)\n",
    "    x_adv = x_adv + eps * tf.sign(grad)\n",
    "    x_adv = tf.clip_by_value(x_adv, 0, 1)\n",
    "    return x_adv"
   ]
  },
  {
   "cell_type": "code",
   "execution_count": 24,
   "id": "2dc2c27c",
   "metadata": {},
   "outputs": [
    {
     "name": "stdout",
     "output_type": "stream",
     "text": [
      "Test loss: 3.081878423690796\n",
      "Test accuracy: 0.033799998462200165\n"
     ]
    }
   ],
   "source": [
    "# 적대적 공격으로 만든 이미지 생성\n",
    "eps = 0.3\n",
    "x_test_adv = fgsm(model, x_test, eps)\n",
    "\n",
    "# 모델 성능 평가\n",
    "score = model.evaluate(x_test_adv, y_test, verbose=0)\n",
    "print('Test loss:', score[0])\n",
    "print('Test accuracy:', score[1])"
   ]
  },
  {
   "cell_type": "code",
   "execution_count": null,
   "id": "d6692e6b",
   "metadata": {},
   "outputs": [],
   "source": []
  }
 ],
 "metadata": {
  "kernelspec": {
   "display_name": "Python 3 (ipykernel)",
   "language": "python",
   "name": "python3"
  },
  "language_info": {
   "codemirror_mode": {
    "name": "ipython",
    "version": 3
   },
   "file_extension": ".py",
   "mimetype": "text/x-python",
   "name": "python",
   "nbconvert_exporter": "python",
   "pygments_lexer": "ipython3",
   "version": "3.10.2"
  }
 },
 "nbformat": 4,
 "nbformat_minor": 5
}
